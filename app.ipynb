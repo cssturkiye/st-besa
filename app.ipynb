{
 "cells": [
  {
   "cell_type": "markdown",
   "id": "79c9c904",
   "metadata": {},
   "source": [
    "# ST-BESA Notebook - Overview & How to Use\n",
    "> Spatio-Temporal Built Environment & Settlement Analysis Platform\n",
    "\n",
    "![ST-BESA Banner](img/st-besa-banner.png)\n",
    "\n",
    "## What this application does\n",
    "\n",
    "- Analyzes the built environment across years (1975–2030) for selected Turkish provinces/districts.\n",
    "- Computes and visualizes: Building Volume, Building Surface, Population, BVPC (m³/person), BSPC (m²/person), Volume/Surface Ratio.\n",
    "- Adds SMOD Settlement Model (L1/L2) class breakdowns on the map and in time-series plots.\n",
    "- Exports a multi-sheet Excel report (overall + SMOD L1/L2 + data dictionary)."
   ]
  },
  {
   "cell_type": "code",
   "execution_count": null,
   "id": "e9b266ab",
   "metadata": {},
   "outputs": [],
   "source": [
    "# Execute this cell first\n",
    "%%capture\n",
    "!pip install earthengine-api>=0.1.397 geemap>=0.33.6 pandas>=2.2 unidecode>=1.3 fiona geopandas folium shapely fiona pyproj osmnx geopy openpyxl\n",
    "# reload files automatically jupyter notebook\n",
    "%load_ext autoreload\n",
    "%autoreload 2"
   ]
  },
  {
   "cell_type": "markdown",
   "id": "ec62358c",
   "metadata": {},
   "source": [
    "# Analysis"
   ]
  },
  {
   "cell_type": "code",
   "execution_count": null,
   "id": "b88f280e",
   "metadata": {},
   "outputs": [],
   "source": [
    "from stbesa_service import OCHACODLoader, STBESAService, build_picker_ui\n",
    "\n",
    "# Provide the \"administrative boundaries\" a folder, zip file or url of zip file\n",
    "src_dir  = \"https://data.humdata.org/dataset/d74086a0-f398-4474-9e12-1b9a70907bd0/resource/d8636d50-2afb-44d5-b989-2ef812da6725/download/tur_adm_2025_ab_shp.zip\"\n",
    "gpkg_out = r\"./ocha_cod_tur.gpkg\"\n",
    "OCHACODLoader(src_dir).write_gpkg(gpkg_out)  # auto-detect ADM1/ADM2, standardize fields\n",
    "svc = STBESAService(gpkg_out)\n",
    "\n",
    "# You have to create a google earth engine project and pass it's name in here\n",
    "ui  = build_picker_ui(svc, project_id=\"ee-engine-css\", year=2025)"
   ]
  }
 ],
 "metadata": {
  "kernelspec": {
   "display_name": "bvpc",
   "language": "python",
   "name": "python3"
  },
  "language_info": {
   "codemirror_mode": {
    "name": "ipython",
    "version": 3
   },
   "file_extension": ".py",
   "mimetype": "text/x-python",
   "name": "python",
   "nbconvert_exporter": "python",
   "pygments_lexer": "ipython3",
   "version": "3.11.14"
  }
 },
 "nbformat": 4,
 "nbformat_minor": 5
}
